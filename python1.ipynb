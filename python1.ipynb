{
 "cells": [
  {
   "cell_type": "code",
   "execution_count": null,
   "id": "70029256-3bd8-4240-9e50-de083f5bacb6",
   "metadata": {},
   "outputs": [],
   "source": [
    "#variables "
   ]
  },
  {
   "cell_type": "code",
   "execution_count": 1,
   "id": "069e688b-e478-4d4d-a62f-85e0428620c0",
   "metadata": {},
   "outputs": [],
   "source": [
    "x=10"
   ]
  },
  {
   "cell_type": "code",
   "execution_count": 3,
   "id": "d629bc71-adb6-47ad-acd9-5dd2a4e4582a",
   "metadata": {},
   "outputs": [],
   "source": [
    "name=\"Python\""
   ]
  },
  {
   "cell_type": "code",
   "execution_count": 5,
   "id": "a7a05ac0-9648-4d23-888b-047047905fba",
   "metadata": {},
   "outputs": [
    {
     "name": "stdout",
     "output_type": "stream",
     "text": [
      "x is greater than 5\n"
     ]
    }
   ],
   "source": [
    "#conditional statements\n",
    "\n",
    "if x >5:\n",
    "    print(\"x is greater than 5\")"
   ]
  },
  {
   "cell_type": "code",
   "execution_count": 24,
   "id": "2d9756b4-7638-497e-89a2-1dd94cfdc6c4",
   "metadata": {},
   "outputs": [
    {
     "name": "stdout",
     "output_type": "stream",
     "text": [
      "Yes\n"
     ]
    }
   ],
   "source": [
    "if x <= 10:\n",
    "    print(\"Yes\")"
   ]
  },
  {
   "cell_type": "code",
   "execution_count": 26,
   "id": "ed5ca198-b50f-4fa5-9485-a2cfb56ce8fe",
   "metadata": {},
   "outputs": [
    {
     "name": "stdout",
     "output_type": "stream",
     "text": [
      "0\n",
      "1\n",
      "2\n",
      "3\n",
      "4\n"
     ]
    }
   ],
   "source": [
    "#loops\n",
    "for i in range (5):\n",
    "    print(i)"
   ]
  },
  {
   "cell_type": "code",
   "execution_count": null,
   "id": "b942cc2a-94b4-4948-8aad-6a93a9317fdb",
   "metadata": {},
   "outputs": [],
   "source": [
    "#Python is a popular programming language. Python can be used on a server to create web applications.\n"
   ]
  }
 ],
 "metadata": {
  "kernelspec": {
   "display_name": "Python [conda env:base] *",
   "language": "python",
   "name": "conda-base-py"
  },
  "language_info": {
   "codemirror_mode": {
    "name": "ipython",
    "version": 3
   },
   "file_extension": ".py",
   "mimetype": "text/x-python",
   "name": "python",
   "nbconvert_exporter": "python",
   "pygments_lexer": "ipython3",
   "version": "3.12.7"
  }
 },
 "nbformat": 4,
 "nbformat_minor": 5
}
